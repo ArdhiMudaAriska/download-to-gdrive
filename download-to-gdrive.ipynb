{
  "nbformat": 4,
  "nbformat_minor": 0,
  "metadata": {
    "colab": {
      "name": "Untitled0.ipynb",
      "provenance": []
    },
    "kernelspec": {
      "name": "python3",
      "display_name": "Python 3"
    },
    "language_info": {
      "name": "python"
    }
  },
  "cells": [
    {
      "cell_type": "code",
      "metadata": {
        "id": "SSIV2x8apbQZ"
      },
      "source": [
        "from google.colab import drive\n",
        "drive.mount('/content/drive')"
      ],
      "execution_count": null,
      "outputs": []
    },
    {
      "cell_type": "code",
      "metadata": {
        "id": "-7kgjjvDpdu5"
      },
      "source": [
        "#@title Add direct download link\n",
        "link = \"\" #@param {type:\"string\"}\n",
        "import os\n",
        "os.chdir(\"/content/drive/MyDrive/Downloads\")\n",
        "!wget -c {link} --no-check-certificate"
      ],
      "execution_count": null,
      "outputs": []
    }
  ]
}