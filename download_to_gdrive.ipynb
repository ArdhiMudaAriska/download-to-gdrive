{
  "nbformat": 4,
  "nbformat_minor": 0,
  "metadata": {
    "colab": {
      "name": "download-to-gdrive.ipynb",
      "provenance": []
    },
    "kernelspec": {
      "name": "python3",
      "display_name": "Python 3"
    },
    "language_info": {
      "name": "python"
    }
  },
  "cells": [
    {
      "cell_type": "code",
      "metadata": {
        "id": "qg0GnU2Fs290"
      },
      "source": [
        "from google.colab import drive\n",
        "drive.mount('/content/drive')"
      ],
      "execution_count": null,
      "outputs": []
    },
    {
      "cell_type": "code",
      "metadata": {
        "cellView": "form",
        "id": "80IMR18Es5W0"
      },
      "source": [
        "#@title Add direct download link\n",
        "link = \"\" #@param {type:\"string\"}\n",
        "import os\n",
        "os.chdir(\"/content/drive/MyDrive/Downloads\")\n",
        "!wget -c {link} --no-check-certificate"
      ],
      "execution_count": null,
      "outputs": []
    }
  ]
}