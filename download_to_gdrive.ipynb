{
  "nbformat": 4,
  "nbformat_minor": 0,
  "metadata": {
    "colab": {
      "name": "download to gdrive.ipynb",
      "provenance": [],
      "collapsed_sections": []
    },
    "kernelspec": {
      "display_name": "Python 3",
      "name": "python3"
    }
  },
  "cells": [
    {
      "cell_type": "markdown",
      "metadata": {
        "id": "UtXl1j7rVa0N"
      },
      "source": [
        "###Mount Google Drive"
      ]
    },
    {
      "cell_type": "code",
      "execution_count": null,
      "metadata": {
        "id": "d6vd_J29UuyV"
      },
      "outputs": [],
      "source": [
        "from google.colab import drive\n",
        "drive.mount('/content/drive', force_remount=True)"
      ]
    },
    {
      "cell_type": "markdown",
      "source": [
        "###Working directory"
      ],
      "metadata": {
        "id": "Y3lTDhpy19K9"
      }
    },
    {
      "cell_type": "code",
      "execution_count": null,
      "metadata": {
        "id": "amkCMJ3V53_9"
      },
      "outputs": [],
      "source": [
        "#@title Working directory {display-mode: \"form\"}\n",
        "Working_directory = \"/content/drive/MyDrive/Downloads\" #@param {type:\"string\"}\n",
        "%mkdir {Working_directory} &> /dev/null\n",
        "%cd {Working_directory}"
      ]
    },
    {
      "cell_type": "markdown",
      "source": [
        "###File downloader"
      ],
      "metadata": {
        "id": "PvfIkxW72cy2"
      }
    },
    {
      "cell_type": "code",
      "source": [
        "#@title Add direct download link {display-mode: \"form\"}\n",
        "link = \"\" #@param {type:\"string\"}\n",
        "!wget -c {link} --no-check-certificate"
      ],
      "metadata": {
        "id": "V0zpQ3pf5d9r"
      },
      "execution_count": null,
      "outputs": []
    },
    {
      "cell_type": "markdown",
      "source": [
        "###Torrent downloader"
      ],
      "metadata": {
        "id": "I0ggogS22jpg"
      }
    },
    {
      "cell_type": "code",
      "source": [
        "#@title Add Magnet URI {display-mode: \"form\"}\n",
        "Magnet_URI = \"\" #@param {type:\"string\"}\n",
        "!echo Downloading prerequisites...\n",
        "!sudo apt install aria2 &> /dev/null\n",
        "!echo Downloading requested files...\n",
        "!aria2c --seed-time=0 --disable-ipv6=true \"{Magnet_URI}\"\n",
        "!echo Done!"
      ],
      "metadata": {
        "id": "4S2FnCOQl5DD"
      },
      "execution_count": null,
      "outputs": []
    }
  ]
}
